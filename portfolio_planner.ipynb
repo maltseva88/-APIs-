{
 "cells": [
  {
   "cell_type": "markdown",
   "metadata": {},
   "source": [
    "# Retirement Planner\n",
    "\n",
    "---\n",
    "\n",
    "## Environment Setup"
   ]
  },
  {
   "cell_type": "code",
   "execution_count": 112,
   "metadata": {},
   "outputs": [],
   "source": [
    "# Import libraries and dependencies\n",
    "import numpy as np\n",
    "import pandas as pd\n",
    "import os\n",
    "from datetime import datetime, timedelta\n",
    "import matplotlib.pyplot as plt\n",
    "import alpaca_trade_api as tradeapi\n",
    "%matplotlib inline"
   ]
  },
  {
   "cell_type": "code",
   "execution_count": 113,
   "metadata": {},
   "outputs": [],
   "source": [
    "# Set the random seed for resutls reproducibility (for testing purposes only)\n",
    "np.random.seed(42)"
   ]
  },
  {
   "cell_type": "markdown",
   "metadata": {},
   "source": [
    "---\n",
    "\n",
    "## Portfolio Planner\n",
    "\n",
    "In this activity, you will use the Alpaca API to grab historical data for a `60/40` portfolio using `SPY` to represent the stock portion and `AGG` to represent the bonds."
   ]
  },
  {
   "cell_type": "code",
   "execution_count": 114,
   "metadata": {},
   "outputs": [],
   "source": [
    "# Load .env enviroment variables\n",
    "from dotenv import load_dotenv\n",
    "load_dotenv()\n",
    "\n",
    "# Set Alpaca API key and secret\n",
    "alpaca_api_key = os.getenv(\"ALPACA_API_KEY\")\n",
    "alpaca_secret_key = os.getenv(\"ALPACA_SECRET_KEY\")\n",
    "\n",
    "# Create the Alpaca API object\n",
    "api = tradeapi.REST(\n",
    "    alpaca_api_key,\n",
    "    alpaca_secret_key,\n",
    "    api_version=\"v2\")"
   ]
  },
  {
   "cell_type": "markdown",
   "metadata": {},
   "source": [
    "# Data Collection\n",
    "\n",
    "In this step, you will need to use the Alpaca api to fetch closing prices for the `SPY` and `AGG` tickers. Save the results as a pandas DataFrame"
   ]
  },
  {
   "cell_type": "code",
   "execution_count": 115,
   "metadata": {},
   "outputs": [],
   "source": [
    "# Subset your tickers, then pull returns data:\n",
    "# Set the ticker\n",
    "ticker = [\"SPY\", \"AGG\"]\n",
    "\n",
    "# Set timeframe to '1D'\n",
    "timeframe = \"1D\"\n",
    "\n",
    "# Set start and end datetimes of 1 year, between now and 365 days ago.\n",
    "start_date = pd.Timestamp('2019-01-01', tz='America/New_York').isoformat()\n",
    "end_date = pd.Timestamp('2019-12-31', tz='America/New_York').isoformat()\n",
    "\n",
    "# Get 1 year's worth of historical data for SPY and AGG\n",
    "df = api.get_barset(\n",
    "    ticker,\n",
    "    timeframe,\n",
    "    limit=None,\n",
    "    start=start_date,\n",
    "    end=end_date,\n",
    "    after=None,\n",
    "    until=None,\n",
    ").df\n",
    "\n",
    "# Drop unnecessary columns\n",
    "df = df.drop(\n",
    "    columns=['open', 'high', 'low', 'volume'],\n",
    "    level=1\n",
    ")"
   ]
  },
  {
   "cell_type": "code",
   "execution_count": 116,
   "metadata": {},
   "outputs": [
    {
     "data": {
      "text/html": [
       "<div>\n",
       "<style scoped>\n",
       "    .dataframe tbody tr th:only-of-type {\n",
       "        vertical-align: middle;\n",
       "    }\n",
       "\n",
       "    .dataframe tbody tr th {\n",
       "        vertical-align: top;\n",
       "    }\n",
       "\n",
       "    .dataframe thead tr th {\n",
       "        text-align: left;\n",
       "    }\n",
       "\n",
       "    .dataframe thead tr:last-of-type th {\n",
       "        text-align: right;\n",
       "    }\n",
       "</style>\n",
       "<table border=\"1\" class=\"dataframe\">\n",
       "  <thead>\n",
       "    <tr>\n",
       "      <th></th>\n",
       "      <th>AGG</th>\n",
       "      <th>SPY</th>\n",
       "    </tr>\n",
       "    <tr>\n",
       "      <th></th>\n",
       "      <th>close</th>\n",
       "      <th>close</th>\n",
       "    </tr>\n",
       "    <tr>\n",
       "      <th>time</th>\n",
       "      <th></th>\n",
       "      <th></th>\n",
       "    </tr>\n",
       "  </thead>\n",
       "  <tbody>\n",
       "    <tr>\n",
       "      <th>2019-12-24 00:00:00-05:00</th>\n",
       "      <td>112.375</td>\n",
       "      <td>321.26</td>\n",
       "    </tr>\n",
       "    <tr>\n",
       "      <th>2019-12-26 00:00:00-05:00</th>\n",
       "      <td>112.480</td>\n",
       "      <td>322.91</td>\n",
       "    </tr>\n",
       "    <tr>\n",
       "      <th>2019-12-27 00:00:00-05:00</th>\n",
       "      <td>112.620</td>\n",
       "      <td>322.86</td>\n",
       "    </tr>\n",
       "    <tr>\n",
       "      <th>2019-12-30 00:00:00-05:00</th>\n",
       "      <td>112.630</td>\n",
       "      <td>321.10</td>\n",
       "    </tr>\n",
       "    <tr>\n",
       "      <th>2019-12-31 00:00:00-05:00</th>\n",
       "      <td>112.370</td>\n",
       "      <td>321.92</td>\n",
       "    </tr>\n",
       "  </tbody>\n",
       "</table>\n",
       "</div>"
      ],
      "text/plain": [
       "                               AGG     SPY\n",
       "                             close   close\n",
       "time                                      \n",
       "2019-12-24 00:00:00-05:00  112.375  321.26\n",
       "2019-12-26 00:00:00-05:00  112.480  322.91\n",
       "2019-12-27 00:00:00-05:00  112.620  322.86\n",
       "2019-12-30 00:00:00-05:00  112.630  321.10\n",
       "2019-12-31 00:00:00-05:00  112.370  321.92"
      ]
     },
     "execution_count": 116,
     "metadata": {},
     "output_type": "execute_result"
    }
   ],
   "source": [
    "# Display sample data\n",
    "df.tail()"
   ]
  },
  {
   "cell_type": "markdown",
   "metadata": {},
   "source": [
    "---\n",
    "\n",
    "## Monte Carlo Simulation\n",
    "\n",
    "In this step, you will run Monte Carlo Simulations for your portfolio to model portfolio performance at different retirement ages. \n",
    "\n",
    "Complete the following steps:\n",
    "\n",
    "1. Calculate the daily returns for the SPY and AGG closing prices.\n",
    "\n",
    "2. Calculate volatility for both the SPY and AGG closing prices.\n",
    "\n",
    "3. Find the last day's closing price for both stocks and save those as variables\n",
    "\n",
    "4. Run a Monte Carlo Simulation of at least `100` iterations and generate at least `30` years of closing prices\n",
    "\n",
    "**Hint:** There are `252` trading days per year, so the number of records to generate for each Monte Carlo run will be `252 days * 30 years`."
   ]
  },
  {
   "cell_type": "code",
   "execution_count": 117,
   "metadata": {},
   "outputs": [
    {
     "data": {
      "text/html": [
       "<div>\n",
       "<style scoped>\n",
       "    .dataframe tbody tr th:only-of-type {\n",
       "        vertical-align: middle;\n",
       "    }\n",
       "\n",
       "    .dataframe tbody tr th {\n",
       "        vertical-align: top;\n",
       "    }\n",
       "\n",
       "    .dataframe thead tr th {\n",
       "        text-align: left;\n",
       "    }\n",
       "\n",
       "    .dataframe thead tr:last-of-type th {\n",
       "        text-align: right;\n",
       "    }\n",
       "</style>\n",
       "<table border=\"1\" class=\"dataframe\">\n",
       "  <thead>\n",
       "    <tr>\n",
       "      <th></th>\n",
       "      <th>AGG</th>\n",
       "      <th>SPY</th>\n",
       "    </tr>\n",
       "    <tr>\n",
       "      <th></th>\n",
       "      <th>close</th>\n",
       "      <th>close</th>\n",
       "    </tr>\n",
       "    <tr>\n",
       "      <th>time</th>\n",
       "      <th></th>\n",
       "      <th></th>\n",
       "    </tr>\n",
       "  </thead>\n",
       "  <tbody>\n",
       "    <tr>\n",
       "      <th>2019-01-02 00:00:00-05:00</th>\n",
       "      <td>NaN</td>\n",
       "      <td>NaN</td>\n",
       "    </tr>\n",
       "    <tr>\n",
       "      <th>2019-01-03 00:00:00-05:00</th>\n",
       "      <td>0.004081</td>\n",
       "      <td>-0.021730</td>\n",
       "    </tr>\n",
       "    <tr>\n",
       "      <th>2019-01-04 00:00:00-05:00</th>\n",
       "      <td>-0.003037</td>\n",
       "      <td>0.032521</td>\n",
       "    </tr>\n",
       "    <tr>\n",
       "      <th>2019-01-07 00:00:00-05:00</th>\n",
       "      <td>-0.002109</td>\n",
       "      <td>0.007884</td>\n",
       "    </tr>\n",
       "    <tr>\n",
       "      <th>2019-01-08 00:00:00-05:00</th>\n",
       "      <td>-0.000470</td>\n",
       "      <td>0.008844</td>\n",
       "    </tr>\n",
       "  </tbody>\n",
       "</table>\n",
       "</div>"
      ],
      "text/plain": [
       "                                AGG       SPY\n",
       "                              close     close\n",
       "time                                         \n",
       "2019-01-02 00:00:00-05:00       NaN       NaN\n",
       "2019-01-03 00:00:00-05:00  0.004081 -0.021730\n",
       "2019-01-04 00:00:00-05:00 -0.003037  0.032521\n",
       "2019-01-07 00:00:00-05:00 -0.002109  0.007884\n",
       "2019-01-08 00:00:00-05:00 -0.000470  0.008844"
      ]
     },
     "execution_count": 117,
     "metadata": {},
     "output_type": "execute_result"
    }
   ],
   "source": [
    "# Calculate the daily roi for the stocks\n",
    "daily_returns = df.pct_change()\n",
    "# Display sample data\n",
    "daily_returns.head()"
   ]
  },
  {
   "cell_type": "code",
   "execution_count": 118,
   "metadata": {},
   "outputs": [],
   "source": [
    "# Compute daily volatility\n",
    "avg_daily_return_agg =  daily_returns.mean()['AGG']['close']\n",
    "std_dev_daily_return_agg = daily_returns.std()['AGG']['close']\n",
    "\n",
    "avg_daily_return_spy = daily_returns.mean()['SPY']['close']\n",
    "std_dev_daily_return_spy = daily_returns.std()['SPY']['close']"
   ]
  },
  {
   "cell_type": "code",
   "execution_count": 119,
   "metadata": {},
   "outputs": [],
   "source": [
    "# Save the last day's closing price\n",
    "agg_last_price = df['AGG']['close'][-1]\n",
    "spy_last_price = df['SPY']['close'][-1]"
   ]
  },
  {
   "cell_type": "code",
   "execution_count": 120,
   "metadata": {},
   "outputs": [],
   "source": [
    "# Setup the Monte Carlo Parameters\n",
    "number_simulations = 500\n",
    "number_records = 252 * 30"
   ]
  },
  {
   "cell_type": "code",
   "execution_count": 121,
   "metadata": {},
   "outputs": [
    {
     "data": {
      "text/html": [
       "<div>\n",
       "<style scoped>\n",
       "    .dataframe tbody tr th:only-of-type {\n",
       "        vertical-align: middle;\n",
       "    }\n",
       "\n",
       "    .dataframe tbody tr th {\n",
       "        vertical-align: top;\n",
       "    }\n",
       "\n",
       "    .dataframe thead th {\n",
       "        text-align: right;\n",
       "    }\n",
       "</style>\n",
       "<table border=\"1\" class=\"dataframe\">\n",
       "  <thead>\n",
       "    <tr style=\"text-align: right;\">\n",
       "      <th></th>\n",
       "      <th>0</th>\n",
       "      <th>1</th>\n",
       "      <th>2</th>\n",
       "      <th>3</th>\n",
       "      <th>4</th>\n",
       "      <th>5</th>\n",
       "      <th>6</th>\n",
       "      <th>7</th>\n",
       "      <th>8</th>\n",
       "      <th>9</th>\n",
       "      <th>...</th>\n",
       "      <th>490</th>\n",
       "      <th>491</th>\n",
       "      <th>492</th>\n",
       "      <th>493</th>\n",
       "      <th>494</th>\n",
       "      <th>495</th>\n",
       "      <th>496</th>\n",
       "      <th>497</th>\n",
       "      <th>498</th>\n",
       "      <th>499</th>\n",
       "    </tr>\n",
       "  </thead>\n",
       "  <tbody>\n",
       "    <tr>\n",
       "      <th>0</th>\n",
       "      <td>1.000000</td>\n",
       "      <td>1.000000</td>\n",
       "      <td>1.000000</td>\n",
       "      <td>1.000000</td>\n",
       "      <td>1.000000</td>\n",
       "      <td>1.000000</td>\n",
       "      <td>1.000000</td>\n",
       "      <td>1.000000</td>\n",
       "      <td>1.000000</td>\n",
       "      <td>1.000000</td>\n",
       "      <td>...</td>\n",
       "      <td>1.000000</td>\n",
       "      <td>1.000000</td>\n",
       "      <td>1.000000</td>\n",
       "      <td>1.000000</td>\n",
       "      <td>1.000000</td>\n",
       "      <td>1.000000</td>\n",
       "      <td>1.000000</td>\n",
       "      <td>1.000000</td>\n",
       "      <td>1.000000</td>\n",
       "      <td>1.000000</td>\n",
       "    </tr>\n",
       "    <tr>\n",
       "      <th>1</th>\n",
       "      <td>1.000476</td>\n",
       "      <td>1.000536</td>\n",
       "      <td>0.998808</td>\n",
       "      <td>1.005394</td>\n",
       "      <td>1.011797</td>\n",
       "      <td>0.994452</td>\n",
       "      <td>0.997251</td>\n",
       "      <td>1.013277</td>\n",
       "      <td>1.000869</td>\n",
       "      <td>0.995376</td>\n",
       "      <td>...</td>\n",
       "      <td>1.002066</td>\n",
       "      <td>0.992709</td>\n",
       "      <td>1.001801</td>\n",
       "      <td>1.002671</td>\n",
       "      <td>0.996472</td>\n",
       "      <td>1.003160</td>\n",
       "      <td>1.001638</td>\n",
       "      <td>1.006800</td>\n",
       "      <td>0.998173</td>\n",
       "      <td>0.994765</td>\n",
       "    </tr>\n",
       "    <tr>\n",
       "      <th>2</th>\n",
       "      <td>1.008876</td>\n",
       "      <td>1.004699</td>\n",
       "      <td>1.003590</td>\n",
       "      <td>0.996711</td>\n",
       "      <td>1.009571</td>\n",
       "      <td>0.994247</td>\n",
       "      <td>0.994214</td>\n",
       "      <td>1.007199</td>\n",
       "      <td>1.000225</td>\n",
       "      <td>0.993036</td>\n",
       "      <td>...</td>\n",
       "      <td>1.005759</td>\n",
       "      <td>0.994517</td>\n",
       "      <td>1.003317</td>\n",
       "      <td>1.006181</td>\n",
       "      <td>0.997472</td>\n",
       "      <td>0.991774</td>\n",
       "      <td>1.002764</td>\n",
       "      <td>1.005408</td>\n",
       "      <td>0.996137</td>\n",
       "      <td>0.998871</td>\n",
       "    </tr>\n",
       "    <tr>\n",
       "      <th>3</th>\n",
       "      <td>1.008286</td>\n",
       "      <td>1.004228</td>\n",
       "      <td>1.003770</td>\n",
       "      <td>0.998232</td>\n",
       "      <td>1.007751</td>\n",
       "      <td>0.987669</td>\n",
       "      <td>0.998229</td>\n",
       "      <td>1.001361</td>\n",
       "      <td>1.000230</td>\n",
       "      <td>1.001279</td>\n",
       "      <td>...</td>\n",
       "      <td>1.006771</td>\n",
       "      <td>0.988444</td>\n",
       "      <td>1.004118</td>\n",
       "      <td>1.010565</td>\n",
       "      <td>0.993293</td>\n",
       "      <td>0.994454</td>\n",
       "      <td>1.008272</td>\n",
       "      <td>0.999144</td>\n",
       "      <td>0.998656</td>\n",
       "      <td>1.003328</td>\n",
       "    </tr>\n",
       "    <tr>\n",
       "      <th>4</th>\n",
       "      <td>1.013963</td>\n",
       "      <td>1.006575</td>\n",
       "      <td>1.008493</td>\n",
       "      <td>1.002636</td>\n",
       "      <td>1.013664</td>\n",
       "      <td>0.990972</td>\n",
       "      <td>1.003241</td>\n",
       "      <td>0.995491</td>\n",
       "      <td>1.002048</td>\n",
       "      <td>1.006036</td>\n",
       "      <td>...</td>\n",
       "      <td>1.004196</td>\n",
       "      <td>0.992123</td>\n",
       "      <td>1.004724</td>\n",
       "      <td>1.004423</td>\n",
       "      <td>0.994844</td>\n",
       "      <td>0.993782</td>\n",
       "      <td>1.005722</td>\n",
       "      <td>1.002248</td>\n",
       "      <td>0.996964</td>\n",
       "      <td>1.004095</td>\n",
       "    </tr>\n",
       "  </tbody>\n",
       "</table>\n",
       "<p>5 rows × 500 columns</p>\n",
       "</div>"
      ],
      "text/plain": [
       "        0         1         2         3         4         5         6    \\\n",
       "0  1.000000  1.000000  1.000000  1.000000  1.000000  1.000000  1.000000   \n",
       "1  1.000476  1.000536  0.998808  1.005394  1.011797  0.994452  0.997251   \n",
       "2  1.008876  1.004699  1.003590  0.996711  1.009571  0.994247  0.994214   \n",
       "3  1.008286  1.004228  1.003770  0.998232  1.007751  0.987669  0.998229   \n",
       "4  1.013963  1.006575  1.008493  1.002636  1.013664  0.990972  1.003241   \n",
       "\n",
       "        7         8         9    ...       490       491       492       493  \\\n",
       "0  1.000000  1.000000  1.000000  ...  1.000000  1.000000  1.000000  1.000000   \n",
       "1  1.013277  1.000869  0.995376  ...  1.002066  0.992709  1.001801  1.002671   \n",
       "2  1.007199  1.000225  0.993036  ...  1.005759  0.994517  1.003317  1.006181   \n",
       "3  1.001361  1.000230  1.001279  ...  1.006771  0.988444  1.004118  1.010565   \n",
       "4  0.995491  1.002048  1.006036  ...  1.004196  0.992123  1.004724  1.004423   \n",
       "\n",
       "        494       495       496       497       498       499  \n",
       "0  1.000000  1.000000  1.000000  1.000000  1.000000  1.000000  \n",
       "1  0.996472  1.003160  1.001638  1.006800  0.998173  0.994765  \n",
       "2  0.997472  0.991774  1.002764  1.005408  0.996137  0.998871  \n",
       "3  0.993293  0.994454  1.008272  0.999144  0.998656  1.003328  \n",
       "4  0.994844  0.993782  1.005722  1.002248  0.996964  1.004095  \n",
       "\n",
       "[5 rows x 500 columns]"
      ]
     },
     "execution_count": 121,
     "metadata": {},
     "output_type": "execute_result"
    }
   ],
   "source": [
    "# Run the Monte Carlo Simulation\n",
    "simulated_price_df = pd.DataFrame()\n",
    "portfolio_cumulative_returns = pd.DataFrame()\n",
    "\n",
    "for n in range(number_simulations):\n",
    "\n",
    "    # Initialize the simulated prices list with the last closing price of `AGG` and `SPY`\n",
    "    simulated_agg_prices = [agg_last_price]\n",
    "    simulated_spy_prices = [spy_last_price]\n",
    "    \n",
    "    # Simulate the returns for 252 * 30 years\n",
    "    for i in range(number_records):\n",
    "        \n",
    "        # Calculate the simulated price using the last price within the list\n",
    "        simulated_agg_price = simulated_agg_prices[-1] * (1 + np.random.normal(avg_daily_return_agg, std_dev_daily_return_agg))\n",
    "        simulated_spy_price = simulated_spy_prices[-1] * (1 + np.random.normal(avg_daily_return_spy, std_dev_daily_return_spy))\n",
    "        \n",
    "        # Append the simulated price to the list\n",
    "        simulated_agg_prices.append(simulated_agg_price)\n",
    "        simulated_spy_prices.append(simulated_spy_price)\n",
    "    \n",
    "    # Append the simulated prices of each simulation to DataFrame\n",
    "    simulated_price_df[\"AGG prices\"] = pd.Series(simulated_agg_prices)\n",
    "    simulated_price_df[\"SPY prices\"] = pd.Series(simulated_spy_prices)\n",
    "    \n",
    "    # Calculate the daily returns of simulated prices\n",
    "    simulated_daily_returns = simulated_price_df.pct_change()\n",
    "    \n",
    "    # Set the portfolio weights (40% AGG; 60% SPY)\n",
    "    weights = [0.40, 0.60]\n",
    "\n",
    "    # Use the `dot` function with the weights to multiply weights with each column's simulated daily returns\n",
    "    portfolio_daily_returns = simulated_daily_returns.dot(weights)\n",
    "    \n",
    "    # Calculate the normalized, cumulative return series\n",
    "    portfolio_cumulative_returns[n] = (1 + portfolio_daily_returns.fillna(0)).cumprod()\n",
    "\n",
    "# Print records from the DataFrame\n",
    "portfolio_cumulative_returns.head()"
   ]
  },
  {
   "cell_type": "code",
   "execution_count": 122,
   "metadata": {},
   "outputs": [
    {
     "data": {
      "text/html": [
       "<div>\n",
       "<style scoped>\n",
       "    .dataframe tbody tr th:only-of-type {\n",
       "        vertical-align: middle;\n",
       "    }\n",
       "\n",
       "    .dataframe tbody tr th {\n",
       "        vertical-align: top;\n",
       "    }\n",
       "\n",
       "    .dataframe thead th {\n",
       "        text-align: right;\n",
       "    }\n",
       "</style>\n",
       "<table border=\"1\" class=\"dataframe\">\n",
       "  <thead>\n",
       "    <tr style=\"text-align: right;\">\n",
       "      <th></th>\n",
       "      <th>AGG prices</th>\n",
       "      <th>SPY prices</th>\n",
       "    </tr>\n",
       "  </thead>\n",
       "  <tbody>\n",
       "    <tr>\n",
       "      <th>0</th>\n",
       "      <td>112.370000</td>\n",
       "      <td>321.920000</td>\n",
       "    </tr>\n",
       "    <tr>\n",
       "      <th>1</th>\n",
       "      <td>112.285503</td>\n",
       "      <td>319.272783</td>\n",
       "    </tr>\n",
       "    <tr>\n",
       "      <th>2</th>\n",
       "      <td>112.442762</td>\n",
       "      <td>321.170897</td>\n",
       "    </tr>\n",
       "    <tr>\n",
       "      <th>3</th>\n",
       "      <td>112.345729</td>\n",
       "      <td>323.744392</td>\n",
       "    </tr>\n",
       "    <tr>\n",
       "      <th>4</th>\n",
       "      <td>112.520977</td>\n",
       "      <td>323.820084</td>\n",
       "    </tr>\n",
       "  </tbody>\n",
       "</table>\n",
       "</div>"
      ],
      "text/plain": [
       "   AGG prices  SPY prices\n",
       "0  112.370000  321.920000\n",
       "1  112.285503  319.272783\n",
       "2  112.442762  321.170897\n",
       "3  112.345729  323.744392\n",
       "4  112.520977  323.820084"
      ]
     },
     "execution_count": 122,
     "metadata": {},
     "output_type": "execute_result"
    }
   ],
   "source": [
    "simulated_price_df.head()"
   ]
  },
  {
   "cell_type": "code",
   "execution_count": 61,
   "metadata": {},
   "outputs": [
    {
     "data": {
      "text/plain": [
       "<matplotlib.axes._subplots.AxesSubplot at 0x7ff1d47aeb50>"
      ]
     },
     "execution_count": 61,
     "metadata": {},
     "output_type": "execute_result"
    },
    {
     "data": {
      "image/png": "[encoded data removed]",
      "text/plain": [
       "<Figure size 432x288 with 1 Axes>"
      ]
     },
     "metadata": {
      "needs_background": "light"
     },
     "output_type": "display_data"
    }
   ],
   "source": [
    "# Visualize the Simulation\n",
    "plot_title = f\"{n+1} Simulations of Cululative Returns Trajectories\" \n",
    "portfolio_cumulative_returns.plot(legend=None, title=plot_title)"
   ]
  },
  {
   "cell_type": "code",
   "execution_count": 42,
   "metadata": {},
   "outputs": [
    {
     "data": {
      "text/plain": [
       "0    192.773859\n",
       "1    171.964137\n",
       "2    177.998514\n",
       "3    138.466715\n",
       "4    175.628015\n",
       "Name: 7560, dtype: float64"
      ]
     },
     "execution_count": 42,
     "metadata": {},
     "output_type": "execute_result"
    }
   ],
   "source": [
    "# Select the last row for the cumulative returns (cumulative returns at 30 years)\n",
    "ending_cumulative_returns = portfolio_cumulative_returns.iloc[-1, :]\n",
    "ending_cumulative_returns.head()"
   ]
  },
  {
   "cell_type": "code",
   "execution_count": 144,
   "metadata": {},
   "outputs": [
    {
     "data": {
      "text/plain": [
       "0.05    102.825606\n",
       "0.95    379.341808\n",
       "Name: 7560, dtype: float64"
      ]
     },
     "execution_count": 144,
     "metadata": {},
     "output_type": "execute_result"
    }
   ],
   "source": [
    "# Display the 90% confidence interval for the ending returns\n",
    "confidence_interval = ending_cumulative_returns.quantile(q=[0.05, 0.95])\n",
    "confidence_interval"
   ]
  },
  {
   "cell_type": "code",
   "execution_count": 52,
   "metadata": {},
   "outputs": [
    {
     "data": {
      "text/plain": [
       "<matplotlib.lines.Line2D at 0x7ff1d461dc90>"
      ]
     },
     "execution_count": 52,
     "metadata": {},
     "output_type": "execute_result"
    },
    {
     "data": {
      "image/png": "[encoded data removed]",
      "text/plain": [
       "<Figure size 432x288 with 1 Axes>"
      ]
     },
     "metadata": {
      "needs_background": "light"
     },
     "output_type": "display_data"
    }
   ],
   "source": [
    "# Visualize the distribution of the ending returns\n",
    "plt.figure();\n",
    "ending_cumulative_returns.plot(kind='hist', density=True, bins=20)\n",
    "plt.axvline(confidence_interval.iloc[0], color='r')\n",
    "plt.axvline(confidence_interval.iloc[1], color='r')"
   ]
  },
  {
   "cell_type": "markdown",
   "metadata": {},
   "source": [
    "---"
   ]
  },
  {
   "cell_type": "markdown",
   "metadata": {},
   "source": [
    "## Retirement Analysis\n",
    "\n",
    "In this section, you will use the monte carlo model to answer the following retirement planning questions:\n",
    "\n",
    "1. What are the expected cumulative returns at `30` years for the `10th`, `50th`, and `90th` percentiles?\n",
    "\n",
    "2. Given an initial investment of `$20,000`, what is the expected return in dollars at the `10th`, `50th`, and `90th` percentiles?\n",
    "\n",
    "3. Given the current projected annual income from the Plaid analysis, will a `4%` withdrawal rate meet or exceed that value at the `10th` percentile? Note: This is basically determining if retirement income is equivalent to current income.\n",
    "\n",
    "4. How would a `50%` increase in the initial investment amount affect the `4%` retirement withdrawal? In other words, what happens if the initial investment had been bigger?"
   ]
  },
  {
   "cell_type": "markdown",
   "metadata": {},
   "source": [
    "### What are the expected cumulative returns at 30 years for the 10th, 50th, and 90th percentiles?"
   ]
  },
  {
   "cell_type": "code",
   "execution_count": 140,
   "metadata": {},
   "outputs": [
    {
     "name": "stdout",
     "output_type": "stream",
     "text": [
      " Expected cumulative returns at 30 years for 90th percentiles is $320.56\n"
     ]
    }
   ],
   "source": [
    "# Compute cumulative returns\n",
    "ending_cumulative_returns_90 = ending_cumulative_returns.quantile(0.9)\n",
    "print(f\" Expected cumulative returns at 30 years for 90th percentiles is $\" \"{:.2f}\".format (ending_cumulative_returns_90))"
   ]
  },
  {
   "cell_type": "markdown",
   "metadata": {},
   "source": [
    "### Given an initial investment of `$20,000`, what is the expected portfolio return in dollars at the 10th, 50th, and 90th percentiles?"
   ]
  },
  {
   "cell_type": "code",
   "execution_count": 137,
   "metadata": {},
   "outputs": [
    {
     "name": "stdout",
     "output_type": "stream",
     "text": [
      " Expected portfolio returns of $20,000 for 90th percentiles is $6411230.97\n"
     ]
    }
   ],
   "source": [
    "# Set initial investment\n",
    "initial_investment = 20000\n",
    "# Compute expected portfolio return\n",
    "returns_90 = initial_investment*ending_cumulative_returns_90\n",
    "print(f\" Expected portfolio returns of $20,000 for 90th percentiles is $\" \"{:.2f}\".format (returns_90))"
   ]
  },
  {
   "cell_type": "code",
   "execution_count": 141,
   "metadata": {},
   "outputs": [
    {
     "name": "stdout",
     "output_type": "stream",
     "text": [
      " Expected cumulative returns at 30 years for 10th percentiles is $119.03\n"
     ]
    }
   ],
   "source": [
    "ending_cumulative_returns_10 = ending_cumulative_returns.quantile(0.1)\n",
    "print(f\" Expected cumulative returns at 30 years for 10th percentiles is $\" \"{:.2f}\".format (ending_cumulative_returns_10))"
   ]
  },
  {
   "cell_type": "code",
   "execution_count": 138,
   "metadata": {},
   "outputs": [
    {
     "name": "stdout",
     "output_type": "stream",
     "text": [
      " Expected portfolio returns of $20,000 for 10th percentiles is $2380549.70\n"
     ]
    }
   ],
   "source": [
    "# Set initial investment\n",
    "initial_investment = 20000\n",
    "# Compute expected portfolio return\n",
    "returns_10 = initial_investment*ending_cumulative_returns_10\n",
    "print(f\" Expected portfolio returns of $20,000 for 10th percentiles is $\" \"{:.2f}\".format (returns_10))"
   ]
  },
  {
   "cell_type": "code",
   "execution_count": 142,
   "metadata": {},
   "outputs": [
    {
     "name": "stdout",
     "output_type": "stream",
     "text": [
      " Expected cumulative returns at 30 years for 50 percentiles is $199.08\n"
     ]
    }
   ],
   "source": [
    "ending_cumulative_returns_50 = ending_cumulative_returns.quantile(0.5)\n",
    "print(f\" Expected cumulative returns at 30 years for 50 percentiles is $\" \"{:.2f}\".format (ending_cumulative_returns_50))"
   ]
  },
  {
   "cell_type": "code",
   "execution_count": 139,
   "metadata": {},
   "outputs": [
    {
     "name": "stdout",
     "output_type": "stream",
     "text": [
      " Expected portfolio returns of $20,000 for 50th percentiles is $3981677.14\n"
     ]
    }
   ],
   "source": [
    "# Set initial investment\n",
    "initial_investment = 20000\n",
    "# Compute expected portfolio return\n",
    "returns_50 = initial_investment*ending_cumulative_returns_50\n",
    "print(f\" Expected portfolio returns of $20,000 for 50th percentiles is $\" \"{:.2f}\".format (returns_50))"
   ]
  },
  {
   "cell_type": "markdown",
   "metadata": {},
   "source": [
    "### Given the current projected annual income from the Plaid analysis, will a 4% withdraw rate from the retirement portfolio meet or exceed that value at the 10th percentile?\n",
    "\n",
    "Note: This is effectively saying that 90% of the expected returns will be greater than the return at the 10th percentile, so this can help measure the uncertainty about having enough funds at retirement"
   ]
  },
  {
   "cell_type": "code",
   "execution_count": 163,
   "metadata": {},
   "outputs": [
    {
     "name": "stdout",
     "output_type": "stream",
     "text": [
      " Retirement income is $28971.29\n",
      " Retirement income is higher than the current projected income\n"
     ]
    }
   ],
   "source": [
    "# Set Plaid's projected income:\n",
    "projected_income = 6085\n",
    "initial_investment = 20000\n",
    "# Calculate the 4% withdrawal for the ending return as retirement income\n",
    "retirement_income = 0.04*(projected_income * ending_cumulative_returns_10)\n",
    "print(f\" Retirement income is $\" \"{:.2f}\".format (retirement_income))\n",
    "\n",
    "# Determine if the retirement income meets or exceeds the current projected income\n",
    "print(f\" Retirement income is higher than the current projected income\")"
   ]
  },
  {
   "cell_type": "markdown",
   "metadata": {},
   "source": [
    "### How would a 50% increase in the initial investment amount affect the 4% retirement withdrawal?"
   ]
  },
  {
   "cell_type": "code",
   "execution_count": null,
   "metadata": {},
   "outputs": [],
   "source": [
    "# Re-calculate the retirement income with a 50% increase in the initial investment amount\n",
    "increase_invest = 30000\n",
    "returns_increase_90 = 0.04*increase_invest*ending_cumulative_returns_90\n",
    "print(f\" Retirement income with a 50% increase in the initial investment for 90th percentiles is $\" \"{:.2f}\".format (returns_increase_90))\n"
   ]
  },
  {
   "cell_type": "code",
   "execution_count": 161,
   "metadata": {},
   "outputs": [
    {
     "name": "stdout",
     "output_type": "stream",
     "text": [
      " Retirement income with a 50% increase in the initial investment for 50th percentiles is $238900.63\n"
     ]
    }
   ],
   "source": [
    "returns_increase_50 = 0.04*increase_invest*ending_cumulative_returns_50\n",
    "print(f\" Retirement income with a 50% increase in the initial investment for 50th percentiles is $\" \"{:.2f}\".format (returns_increase_50))"
   ]
  },
  {
   "cell_type": "code",
   "execution_count": 162,
   "metadata": {},
   "outputs": [
    {
     "name": "stdout",
     "output_type": "stream",
     "text": [
      " Retirement income with a 10% increase in the initial investment for 90th percentiles is $142832.98\n"
     ]
    }
   ],
   "source": [
    "returns_increase_10 = 0.04*increase_invest*ending_cumulative_returns_10\n",
    "print(f\" Retirement income with a 10% increase in the initial investment for 90th percentiles is $\" \"{:.2f}\".format (returns_increase_10))"
   ]
  },
  {
   "cell_type": "code",
   "execution_count": null,
   "metadata": {},
   "outputs": [],
   "source": []
  }
 ],
 "metadata": {
  "kernelspec": {
   "display_name": "Python 3",
   "language": "python",
   "name": "python3"
  },
  "language_info": {
   "codemirror_mode": {
    "name": "ipython",
    "version": 3
   },
   "file_extension": ".py",
   "mimetype": "text/x-python",
   "name": "python",
   "nbconvert_exporter": "python",
   "pygments_lexer": "ipython3",
   "version": "3.7.6"
  }
 },
 "nbformat": 4,
 "nbformat_minor": 4
}
